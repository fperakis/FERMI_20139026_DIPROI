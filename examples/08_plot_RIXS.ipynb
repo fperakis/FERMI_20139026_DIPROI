{
 "cells": [
  {
   "cell_type": "markdown",
   "metadata": {},
   "source": [
    "# Data Analysis"
   ]
  },
  {
   "cell_type": "markdown",
   "metadata": {},
   "source": [
    "### Info\n",
    "This log is part of the experiment 20139026 at beamline DiProi at Fermi/Trieste (Oct.2017).  \n",
    "\n",
    "Uses: /src/data_tools.py and /src/fit_tools.py"
   ]
  },
  {
   "cell_type": "code",
   "execution_count": 1,
   "metadata": {
    "collapsed": true
   },
   "outputs": [],
   "source": [
    "import numpy as np\n",
    "from matplotlib import pyplot as plt\n",
    "from scipy import interpolate\n",
    "import h5py\n",
    "import sys\n",
    "\n",
    "sys.path.insert(0, '../src/')\n",
    "from data_tools import *\n",
    "from fit_tools import *"
   ]
  },
  {
   "cell_type": "markdown",
   "metadata": {},
   "source": [
    "### Load data"
   ]
  },
  {
   "cell_type": "markdown",
   "metadata": {},
   "source": [
    "costants and parameters"
   ]
  },
  {
   "cell_type": "code",
   "execution_count": 2,
   "metadata": {
    "collapsed": false
   },
   "outputs": [],
   "source": [
    "run = 21\n",
    "t0 = 136.35\n",
    "c = 299792458 #m/s\n",
    "i0_thr = 2e5\n",
    "n_bins = 1626"
   ]
  },
  {
   "cell_type": "markdown",
   "metadata": {},
   "source": [
    "discover and sort energy folders"
   ]
  },
  {
   "cell_type": "code",
   "execution_count": 3,
   "metadata": {
    "collapsed": false
   },
   "outputs": [],
   "source": [
    "base_path = '/Volumes/FERMI_2017/DATA/XAS%03d/' % run\n",
    "folders,tmp = discover_files(base_path)\n",
    "\n",
    "energies = []\n",
    "e_folders = []\n",
    "for i in range(len(folders)):\n",
    "    if folders[i][:2]=='E2':\n",
    "        e = float('%s.%s'%(folders[i][1:4],folders[i][5:7]))\n",
    "        energies.extend([e])\n",
    "        e_folders.extend([folders[i]])\n",
    "n_energies = len(energies)\n",
    "energies_sorted = np.sort(energies)\n",
    "e_folders_sorted = [x for _,x in sorted(zip(energies,e_folders))]"
   ]
  },
  {
   "cell_type": "markdown",
   "metadata": {},
   "source": [
    "Load data: For each shots are loaded \n",
    "* the FEL intensity (i0)\n",
    "* the XAS intensity\n",
    "* the delay time  \n",
    "* the photon energy (average)"
   ]
  },
  {
   "cell_type": "code",
   "execution_count": 7,
   "metadata": {
    "collapsed": false
   },
   "outputs": [
    {
     "name": "stdout",
     "output_type": "stream",
     "text": [
      "E:1/20 - E285p63eV_Ver \n",
      "E:2/20 - E286p12eV_Ver \n",
      "E:3/20 - E286p36eV_Ver \n",
      "E:4/20 - E286p60eV_Ver \n",
      "E:5/20 - E286p97eV_Ver \n",
      "E:6/20 - E287p20eV_Ver \n",
      "E:7/20 - E287p50eV_Ver \n",
      "E:8/20 - E287p80eV_Ver \n",
      "E:9/20 - E288p10eV_Ver \n",
      "E:10/20 - E288p37eV_Ver \n",
      "E:11/20 - E288p69eV_Ver \n",
      "E:12/20 - E289p00eV_Ver \n",
      "E:13/20 - E289p30eV_Ver \n",
      "E:14/20 - E289p60eV_Ver \n",
      "E:15/20 - E289p90eV_Ver \n",
      "E:16/20 - E290p19eV_Ver \n",
      "E:17/20 - E290p49eV_Ver \n",
      "E:18/20 - E290p81eV_Ver \n",
      "E:19/20 - E291p00eV_Ver \n",
      "E:20/20 - E291p50eV_Ver \n"
     ]
    }
   ],
   "source": [
    "FEL_int  = [] \n",
    "t_delay  = [] \n",
    "mean_E   = [] \n",
    "delays   = []\n",
    "XES_spec  = np.zeros([n_energies,n_bins])\n",
    "\n",
    "# loop over energies and delay times and load\n",
    "for i in range(n_energies):\n",
    "    load_path = base_path+e_folders_sorted[i]+'/work/'\n",
    "    tmp,file_names = discover_files(load_path)\n",
    "    print 'E:%d/%d - %s '%(i+1,n_energies,e_folders_sorted[i])\n",
    "    XES_tmp = np.zeros([len(file_names),n_bins])\n",
    "    for j in range(len(file_names)):\n",
    "        h5file = h5py.File(load_path+file_names[j], 'r')\n",
    "        t   = h5file['/LASER/delay'].value\n",
    "        i0  = np.array(h5file['/FEL/i0'].value)\n",
    "        n_shots = len(i0)\n",
    "        XES = np.array(h5file['/XES/spectrum'].value,dtype=float)\n",
    "        XES_tmp[j] = np.average(XES,axis=0)\n",
    "\n",
    "        FEL_int.extend(i0)\n",
    "        mean_E.extend(np.ones(n_shots)*energies_sorted[i])\n",
    "        t_delay.extend(np.ones(n_shots)*t)\n",
    "        delays.extend([t])\n",
    "    XES_spec[i] = np.average(XES_tmp,axis=0)\n",
    "            \n",
    "FEL_int  = np.array(FEL_int) \n",
    "#XES_int  = np.array(XAS_int)\n",
    "t_delay  = np.array(t_delay)\n",
    "mean_E   = np.array(mean_E)\n",
    "delays   = np.array(delays)\n",
    "delays= np.unique(np.sort(delays[delays>0]))"
   ]
  },
  {
   "cell_type": "markdown",
   "metadata": {},
   "source": [
    "### RIXS signal"
   ]
  },
  {
   "cell_type": "code",
   "execution_count": 8,
   "metadata": {
    "collapsed": false
   },
   "outputs": [
    {
     "data": {
      "image/png": "[encoded data removed]",
      "text/plain": [
       "<matplotlib.figure.Figure at 0x109f8aa90>"
      ]
     },
     "metadata": {},
     "output_type": "display_data"
    }
   ],
   "source": [
    "x1,x2 = 500,1301\n",
    "\n",
    "plt.figure(figsize=[6,2])\n",
    "plt.imshow(XES_spec[:,x1:x2],aspect='auto',interpolation='None',vmax=10)\n",
    "fE = interpolate.interp1d(energies_sorted,np.arange(n_energies))\n",
    "E_ticks =np.arange(286,292)\n",
    "y_ticks = fE(E_ticks)\n",
    "plt.yticks(y_ticks,E_ticks)\n",
    "plt.ylabel(r'Incident energy (eV) ',size=10)\n",
    "plt.xlabel(r'Emission energy (pixels) ',size=10)\n",
    "plt.xticks(np.arange(0,x2-x1,100),np.arange(0,x2-x1,100)+x1)\n",
    "\n",
    "plt.colorbar()\n",
    "plt.tight_layout()\n",
    "plt.title('RIXS (XAS%03d) - Horizontal'%run,size=10)\n",
    "plt.savefig('/Users/fivos/Desktop/RIXS_%03d_Hor.png'%run,dpi=300)\n",
    "\n",
    "plt.show()"
   ]
  },
  {
   "cell_type": "code",
   "execution_count": null,
   "metadata": {
    "collapsed": true
   },
   "outputs": [],
   "source": []
  }
 ],
 "metadata": {
  "kernelspec": {
   "display_name": "Python 2",
   "language": "python",
   "name": "python2"
  },
  "language_info": {
   "codemirror_mode": {
    "name": "ipython",
    "version": 2
   },
   "file_extension": ".py",
   "mimetype": "text/x-python",
   "name": "python",
   "nbconvert_exporter": "python",
   "pygments_lexer": "ipython2",
   "version": "2.7.10"
  }
 },
 "nbformat": 4,
 "nbformat_minor": 1
}
