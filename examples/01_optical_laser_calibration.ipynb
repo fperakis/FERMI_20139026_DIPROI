{
 "cells": [
  {
   "cell_type": "markdown",
   "metadata": {},
   "source": [
    "# Optical laser calibration"
   ]
  },
  {
   "cell_type": "markdown",
   "metadata": {},
   "source": [
    "This log is part of the experiment 20139026 at beamline DiProi at Fermi/Trieste (Oct.2017)\n",
    "\n",
    "Here we calibrate the optical laser intesnity, by comparing the flux at 800nm and 400nm"
   ]
  },
  {
   "cell_type": "markdown",
   "metadata": {},
   "source": [
    "### Import and define stuff"
   ]
  },
  {
   "cell_type": "code",
   "execution_count": 1,
   "metadata": {
    "collapsed": true
   },
   "outputs": [],
   "source": [
    "import numpy as np\n",
    "from matplotlib import pyplot as plt\n",
    "from scipy.optimize import curve_fit"
   ]
  },
  {
   "cell_type": "code",
   "execution_count": 8,
   "metadata": {
    "collapsed": true
   },
   "outputs": [],
   "source": [
    "def power_law(x,a,b,c):\n",
    "    return a*x**b\n",
    "\n",
    "def fit(function,x,y,p0=None,sigma=None,bounds=None):\n",
    "    '''\n",
    "    fits a function and return the fit resulting parameters and curve\n",
    "    '''\n",
    "    popt,pcov = curve_fit(function,x,y,p0=p0,sigma=sigma)\n",
    "    x = np.arange(0,1e4)\n",
    "    curve = function(x,*popt)\n",
    "    perr = np.sqrt(np.diag(pcov))\n",
    "    return popt,x,curve,perr"
   ]
  },
  {
   "cell_type": "markdown",
   "metadata": {},
   "source": [
    "### Fitting the laser intensity 400 vs 800 nm"
   ]
  },
  {
   "cell_type": "markdown",
   "metadata": {},
   "source": [
    "2017/10/25 15:59"
   ]
  },
  {
   "cell_type": "code",
   "execution_count": 9,
   "metadata": {
    "collapsed": true
   },
   "outputs": [],
   "source": [
    "x = np.array([134,  230,  340, 440, 530, 600, 620]) #intensity of 800 nm (uJ)\n",
    "y = np.array([10.7, 27.2, 51,  76,  100, 114, 120]) #intensity of 400 nm (uJ)"
   ]
  },
  {
   "cell_type": "code",
   "execution_count": 10,
   "metadata": {
    "collapsed": false
   },
   "outputs": [
    {
     "name": "stdout",
     "output_type": "stream",
     "text": [
      "[ 0.01094616  1.44865197  1.        ]\n"
     ]
    }
   ],
   "source": [
    "popt,xf,f,perr = fit(power_law,x,y)\n",
    "print popt"
   ]
  },
  {
   "cell_type": "code",
   "execution_count": 11,
   "metadata": {
    "collapsed": false
   },
   "outputs": [
    {
     "data": {
      "image/png": "[encoded data removed]",
      "text/plain": [
       "<matplotlib.figure.Figure at 0x10a8efad0>"
      ]
     },
     "metadata": {},
     "output_type": "display_data"
    }
   ],
   "source": [
    "plt.figure(figsize=[3.5,3])\n",
    "plt.plot(x,y,'o')\n",
    "plt.plot(xf,f,label = r'$%.2f$ $x^{%.2f}$'%(popt[0],popt[1]))\n",
    "plt.xlim(0,1000)\n",
    "plt.ylim(0,250)\n",
    "plt.xlabel(r'$I_{800 nm} (\\mu J) $',size=14)\n",
    "plt.ylabel(r'$I_{400 nm} (\\mu J) $',size=14)\n",
    "plt.title('Second harmonic generation')\n",
    "plt.legend(frameon=False,loc='upper left', prop={'size': 14})\n",
    "plt.grid()\n",
    "plt.tight_layout()\n",
    "plt.savefig('/Users/fivos/Desktop/fig.png',dpi=300)\n",
    "\n",
    "plt.show()"
   ]
  },
  {
   "cell_type": "code",
   "execution_count": 12,
   "metadata": {
    "collapsed": false
   },
   "outputs": [
    {
     "name": "stdout",
     "output_type": "stream",
     "text": [
      "[ 149.03124471]\n"
     ]
    }
   ],
   "source": [
    "print f[xf==714]"
   ]
  },
  {
   "cell_type": "code",
   "execution_count": 13,
   "metadata": {
    "collapsed": false
   },
   "outputs": [
    {
     "name": "stdout",
     "output_type": "stream",
     "text": [
      "[260 280 300 320 340 360 380 400 420 440 460 480 500 520 540 560 580 600\n",
      " 620 640 660 680 700 720 740 760 780 800 820 840 860 880 900 920 940 960\n",
      " 980]\n",
      "[ 1048.43191092  1103.4615861   1157.28610833  1210.00978344  1261.72197549\n",
      "  1312.49999617  1362.41130642  1411.51522168  1459.86425163  1507.5051666\n",
      "  1554.47985605  1600.82602713  1646.57777838  1691.76607499  1736.41914573\n",
      "  1780.5628167   1824.22079405  1867.41490481  1910.16530328  1952.49064885\n",
      "  1994.40825997  2035.93424807  2077.08363463  2117.87045379  2158.30784283\n",
      "  2198.40812206  2238.18286574  2277.64296517  2316.79868499  2355.6597136\n",
      "  2394.23520843  2432.53383665  2470.56381195  2508.33292781  2545.84858758\n",
      "  2583.11783193  2620.14736377]\n"
     ]
    }
   ],
   "source": [
    "y400 = np.arange(260,1000,20)\n",
    "x800 = (y400/popt[0])**(1/popt[1])\n",
    "print y400\n",
    "print x800"
   ]
  },
  {
   "cell_type": "code",
   "execution_count": null,
   "metadata": {
    "collapsed": true
   },
   "outputs": [],
   "source": []
  }
 ],
 "metadata": {
  "kernelspec": {
   "display_name": "Python 2",
   "language": "python",
   "name": "python2"
  },
  "language_info": {
   "codemirror_mode": {
    "name": "ipython",
    "version": 2
   },
   "file_extension": ".py",
   "mimetype": "text/x-python",
   "name": "python",
   "nbconvert_exporter": "python",
   "pygments_lexer": "ipython2",
   "version": "2.7.10"
  }
 },
 "nbformat": 4,
 "nbformat_minor": 1
}
