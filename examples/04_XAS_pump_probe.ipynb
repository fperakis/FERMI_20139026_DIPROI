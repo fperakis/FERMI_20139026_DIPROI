{
 "cells": [
  {
   "cell_type": "markdown",
   "metadata": {},
   "source": [
    "# XAS pump probe signal"
   ]
  },
  {
   "cell_type": "markdown",
   "metadata": {},
   "source": [
    "This log is part of the experiment 20139026 at beamline DiProi at Fermi/Trieste (Oct.2017)\n",
    "\n",
    "Here we varry the pump-probe delay at 290 eV for CO/Ru(0001)"
   ]
  },
  {
   "cell_type": "markdown",
   "metadata": {},
   "source": [
    "### Import"
   ]
  },
  {
   "cell_type": "code",
   "execution_count": 1,
   "metadata": {
    "collapsed": true
   },
   "outputs": [],
   "source": [
    "import numpy as np\n",
    "from matplotlib import pyplot as plt\n",
    "from scipy.optimize import curve_fit\n",
    "#import hdf5plugin\n",
    "import h5py\n",
    "from os import walk"
   ]
  },
  {
   "cell_type": "markdown",
   "metadata": {},
   "source": [
    "### Define useful functions"
   ]
  },
  {
   "cell_type": "code",
   "execution_count": 2,
   "metadata": {
    "collapsed": false
   },
   "outputs": [],
   "source": [
    "def line(x,a,b):\n",
    "    return a*x+b\n",
    "\n",
    "def gaussian(x,a,b,c,d):\n",
    "    return np.abs(a)*np.exp(-4*np.log(2)*(x-b)**2./(c**2))+d\n",
    "\n",
    "def gaussian0(x,a,b,c):\n",
    "    return np.abs(a)*np.exp(-4*np.log(2)*(x-b)**2./(c**2))\n",
    "\n",
    "def fit(function,x,y,p0=None,sigma=None,bounds=None):\n",
    "    '''\n",
    "    fits a function and return the fit resulting parameters and curve\n",
    "    '''\n",
    "    popt,pcov = curve_fit(function,x,y,p0=p0,sigma=sigma)\n",
    "    x = np.arange(0,3e3,1e-2)\n",
    "    curve = function(x,*popt)\n",
    "    perr = np.sqrt(np.diag(pcov))\n",
    "    return popt,x,curve,perr\n",
    "\n",
    "def discover_files(path):\n",
    "    # looks in the given directory and returns the filenames,\n",
    "    for (dirpath, dirnames, filenames) in walk(path):\n",
    "        break\n",
    "    return filenames\n",
    "\n",
    "def load_h5file(file_path):\n",
    "    h5file = h5py.File(file_path, 'r')\n",
    "    return h5file\n",
    "\n",
    "def get_FEL_Spectrum(h5file):\n",
    "    hor_spectrum   = h5file['photon_diagnostics/Spectrometer/hor_spectrum']\n",
    "    WavelenghtSpan = h5file['photon_diagnostics/Spectrometer/WavelengthSpan'].value\n",
    "    Pixel2micron   = h5file['photon_diagnostics/Spectrometer/Pixel2micron'].value\n",
    "    Wavelenght     = h5file['/photon_diagnostics/Spectrometer/Wavelength'].value\n",
    "    # alternative approach for wavelenght based on the FEL2 \n",
    "    #Wavelenght = h5file['photon_source/SeedLaser/WavelengthFEL2'].value\n",
    "    #Wavelenght/=12*5\n",
    "    \n",
    "    ind = np.arange(0,1000)-500\n",
    "    x = Wavelenght + ind*Pixel2micron*WavelenghtSpan/1000\n",
    "    h = 4.135667662*10**(-18)#ev s\n",
    "    c = 299792458 #m/s\n",
    "    Energy = h*c/x*1e12\n",
    "    \n",
    "    return hor_spectrum,Energy"
   ]
  },
  {
   "cell_type": "markdown",
   "metadata": {},
   "source": [
    "### Files and folders "
   ]
  },
  {
   "cell_type": "code",
   "execution_count": 11,
   "metadata": {
    "collapsed": false
   },
   "outputs": [
    {
     "name": "stdout",
     "output_type": "stream",
     "text": [
      "../../../01_data/04_XAS_pp/XAS004/ ['E289p06eV_Hor_350398243.h5', 'E289p06eV_Hor_350398750.h5', 'E289p06eV_Hor_350399165.h5', 'E289p06eV_Hor_350399593.h5', 'E289p06eV_Hor_350400008.h5', 'E289p06eV_Hor_350400423.h5', 'E289p06eV_Hor_350400849.h5', 'E289p06eV_Hor_350401267.h5', 'E289p06eV_Hor_350401682.h5', 'E289p06eV_Hor_350402107.h5', 'E289p06eV_Hor_350402500.h5', 'E289p06eV_Hor_350402917.h5', 'E289p06eV_Hor_350403332.h5', 'E289p06eV_Hor_350403757.h5', 'E289p06eV_Hor_350404172.h5', 'E289p06eV_Hor_350404569.h5', 'E289p06eV_Hor_350404984.h5', 'E289p06eV_Hor_350405369.h5', 'E289p06eV_Hor_350405794.h5', 'E289p06eV_Hor_350406208.h5', 'E289p06eV_Hor_350406634.h5', 'E289p06eV_Hor_350407049.h5', 'E289p06eV_Hor_350407474.h5', 'E289p06eV_Hor_350407889.h5', 'E289p06eV_Hor_350408314.h5', 'E289p06eV_Hor_350408729.h5', 'E289p06eV_Hor_350409144.h5', 'E289p06eV_Hor_350409569.h5', 'E289p06eV_Hor_350409984.h5', 'E289p06eV_Hor_350410409.h5', 'E289p06eV_Hor_350410824.h5', 'E289p06eV_Hor_350411212.h5']\n"
     ]
    }
   ],
   "source": [
    "dataset = 4\n",
    "file_path = '../../../01_data/04_XAS_pp/XAS00%d/'%dataset\n",
    "file_names = discover_files(file_path)\n",
    "print file_path,file_names"
   ]
  },
  {
   "cell_type": "markdown",
   "metadata": {},
   "source": [
    "### Load data"
   ]
  },
  {
   "cell_type": "code",
   "execution_count": 12,
   "metadata": {
    "collapsed": false
   },
   "outputs": [],
   "source": [
    "#n_files  = len(file_names)\n",
    "n_shots  = 300\n",
    "n_bins   = 1000 \n",
    "n_delays = len(file_names)\n",
    "\n",
    "FEL_energy    = np.zeros([n_delays,n_shots,n_bins])\n",
    "FEL_intensity = np.zeros([n_delays,n_shots,n_bins])\n",
    "XAS_intensity = np.zeros([n_delays,n_shots])\n",
    "pp_delay      = np.zeros([n_delays,n_shots])\n",
    "pump_intensity= np.zeros([n_delays,n_shots])\n",
    "\n",
    "for i in range(n_delays):\n",
    "    #print file_names[i]\n",
    "    h5file = h5py.File(file_path+file_names[i], 'r')\n",
    "    FEL_intensity[i],FEL_energy[i] =  get_FEL_Spectrum(h5file)\n",
    "    XAS_intensity[i]    = h5file['/Laser/BaslerInt2'].value\n",
    "    pp_delay[i]         = h5file['/Laser/DelayPosVector'].value\n",
    "    pump_intensity[i]   = h5file['/Laser/Energy1'].value"
   ]
  },
  {
   "cell_type": "markdown",
   "metadata": {},
   "source": [
    "### Pump probe signal"
   ]
  },
  {
   "cell_type": "code",
   "execution_count": 13,
   "metadata": {
    "collapsed": false
   },
   "outputs": [],
   "source": [
    "i0   = np.zeros([n_delays,n_shots])\n",
    "for i in range(n_delays):\n",
    "    for j in range(131,n_shots):\n",
    "        x,y = FEL_energy[i,j],FEL_intensity[i,j]\n",
    "        offset = np.average(y[200:280])\n",
    "        i0[i,j] = np.average(y[y>0]-offset)"
   ]
  },
  {
   "cell_type": "code",
   "execution_count": 15,
   "metadata": {
    "collapsed": false
   },
   "outputs": [
    {
     "name": "stderr",
     "output_type": "stream",
     "text": [
      "/Users/fivos/pyvos/lib/python2.7/site-packages/ipykernel/__main__.py:11: RuntimeWarning: divide by zero encountered in divide\n"
     ]
    },
    {
     "data": {
      "image/png": "[encoded data removed]",
      "text/plain": [
       "<matplotlib.figure.Figure at 0x11e8c7210>"
      ]
     },
     "metadata": {},
     "output_type": "display_data"
    }
   ],
   "source": [
    "plt.figure(figsize=[5,4])\n",
    "pp_time   = np.zeros(n_delays)\n",
    "pp_signal = np.zeros(n_delays)\n",
    "pp_error  = np.zeros(n_delays)\n",
    "c = 299792458 #m/s\n",
    "\n",
    "for i in range(n_delays):\n",
    "    pp_time[i] = pp_delay[i,0]*1e-3/c*1e12*2\n",
    "    good_shots = np.ones(n_shots)\n",
    "    good_shots[i0[i]<1e1] = 0\n",
    "    pp = XAS_intensity[i]/i0[i]\n",
    "    pp_signal[i]  = np.average(pp[good_shots==1])\n",
    "    pp_error[i]   = np.std(pp[good_shots==1])/np.sqrt(len(pp[good_shots==1]))\n",
    "\n",
    "plt.errorbar(pp_time,pp_signal,yerr=pp_error,fmt='o')\n",
    "plt.title('XAS00%d'%dataset)\n",
    "plt.ylabel('Pump Probe signal (a.u.)',size=14)\n",
    "plt.xlabel('time delay (ps)',size=14)\n",
    "plt.savefig('/Users/fivos/Desktop/figXAS00%d.png'%dataset,dpi=300)\n",
    "np.save('/Users/fivos/Desktop/pp_XAS00%d'%dataset,np.array([pp_time,pp_signal,pp_error]))\n",
    "plt.show()"
   ]
  },
  {
   "cell_type": "code",
   "execution_count": null,
   "metadata": {
    "collapsed": true
   },
   "outputs": [],
   "source": []
  }
 ],
 "metadata": {
  "kernelspec": {
   "display_name": "Python 2",
   "language": "python",
   "name": "python2"
  },
  "language_info": {
   "codemirror_mode": {
    "name": "ipython",
    "version": 2
   },
   "file_extension": ".py",
   "mimetype": "text/x-python",
   "name": "python",
   "nbconvert_exporter": "python",
   "pygments_lexer": "ipython2",
   "version": "2.7.10"
  }
 },
 "nbformat": 4,
 "nbformat_minor": 1
}
