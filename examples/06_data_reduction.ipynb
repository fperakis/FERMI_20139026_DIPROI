{
 "cells": [
  {
   "cell_type": "markdown",
   "metadata": {},
   "source": [
    "# Data reduction"
   ]
  },
  {
   "cell_type": "markdown",
   "metadata": {},
   "source": [
    "### Info\n",
    "This log is part of the experiment 20139026 at beamline DiProi at Fermi/Trieste (Oct.2017).  \n",
    "\n",
    "This script is used to reduce the h5 file size\n",
    "\n",
    "Uses: /src/data_tools.py"
   ]
  },
  {
   "cell_type": "code",
   "execution_count": null,
   "metadata": {
    "collapsed": true
   },
   "outputs": [],
   "source": [
    "import numpy as np\n",
    "from matplotlib import pyplot as plt\n",
    "import h5py\n",
    "import sys\n",
    "\n",
    "sys.path.insert(0, '../src/')\n",
    "from data_tools import *\n",
    "from fit_tools import *"
   ]
  },
  {
   "cell_type": "markdown",
   "metadata": {},
   "source": [
    "### loop over time delays"
   ]
  },
  {
   "cell_type": "code",
   "execution_count": null,
   "metadata": {
    "collapsed": true
   },
   "outputs": [],
   "source": [
    "base_path = '/Volumes/FERMI_2017/DATA/XAS019/E286p00eV_Hor/'\n",
    "load_path = base_path+'rawdata/' \n",
    "folders,file_names = discover_files(load_path)"
   ]
  },
  {
   "cell_type": "code",
   "execution_count": null,
   "metadata": {
    "collapsed": false
   },
   "outputs": [],
   "source": [
    "thr   = 20  # detector threshold filtering\n",
    "n_delays = len(file_names)\n",
    "\n",
    "for i in range(n_delays):\n",
    "    print '%d/%d - %s '%(i+1,n_delays,file_names[i])\n",
    "    \n",
    "    h5file = h5py.File(load_path+file_names[i], 'r')\n",
    "    XAS_int = get_XAS_intensity(h5file,thr = thr)\n",
    "    XES_spectrum = get_XES_spectrum(h5file,thr = thr)\n",
    "    i0,Energy, Spectrum = get_i0(h5file)\n",
    "    laser_int = h5file['/Laser/Energy1'].value\n",
    "    dt = h5file['/Laser/DelayPosVector'].value[0]\n",
    "    \n",
    "    save_data = [XAS_int,thr,XES_spectrum,i0,Energy,Spectrum,laser_int,dt]\n",
    "    save_file   = base_path+'work/'+file_names[i][:-3]+'_sml.h5'\n",
    "    save_data_h5(save_file,save_data)\n",
    "    "
   ]
  },
  {
   "cell_type": "markdown",
   "metadata": {},
   "source": [
    "### loop over time delays and photon energies"
   ]
  },
  {
   "cell_type": "code",
   "execution_count": null,
   "metadata": {
    "collapsed": false
   },
   "outputs": [],
   "source": [
    "run = 19\n",
    "thr = 20  # detector threshold filtering\n",
    "\n",
    "base_path = '/Volumes/FERMI_2017/DATA/XAS%03d/' % run\n",
    "folders,tmp = discover_files(base_path)\n",
    "\n",
    "for i in range(len(folders)):\n",
    "    if folders[i]!='combined':\n",
    "        load_path = base_path+folders[i]+'/rawdata/'\n",
    "        tmp,file_names = discover_files(load_path)\n",
    "        for j in range(len(file_names)):\n",
    "            print 'E:%d/%d - t:%d/%d - %s '%(i+1,len(folders),j+1,len(file_names),file_names[j])\n",
    "\n",
    "            h5file = h5py.File(load_path+file_names[j], 'r')\n",
    "            XAS_int = get_XAS_intensity(h5file,thr = thr)\n",
    "            XES_spectrum = get_XES_spectrum(h5file,thr = thr)\n",
    "            i0,Energy, Spectrum = get_i0(h5file)\n",
    "            laser_int = h5file['/Laser/Energy1'].value\n",
    "            dt = h5file['/Laser/DelayPosVector'].value[0]\n",
    "    \n",
    "            save_data = [XAS_int,thr,XES_spectrum,i0,Energy,Spectrum,laser_int,dt]\n",
    "            save_file   = base_path+folders[i]+'/work/'+file_names[j][:-3]+'_sml.h5'\n",
    "            save_data_h5(save_file,save_data)"
   ]
  }
 ],
 "metadata": {
  "kernelspec": {
   "display_name": "Python 2",
   "language": "python",
   "name": "python2"
  },
  "language_info": {
   "codemirror_mode": {
    "name": "ipython",
    "version": 2
   },
   "file_extension": ".py",
   "mimetype": "text/x-python",
   "name": "python",
   "nbconvert_exporter": "python",
   "pygments_lexer": "ipython2",
   "version": "2.7.10"
  }
 },
 "nbformat": 4,
 "nbformat_minor": 1
}
